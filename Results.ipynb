{
 "cells": [
  {
   "cell_type": "markdown",
   "metadata": {},
   "source": [
    "## VGG16 No data Augmentation\n",
    "## No Data Augmentation – Errors 206/2226\n",
    "### All layers fixed - neural network\n",
    "\n",
    "Problem with OpenCV color transformation\n"
   ]
  },
  {
   "cell_type": "markdown",
   "metadata": {},
   "source": [
    "<img src=\"files/files/vgg16-no-data-aug.png\">\n",
    "<img src=\"files/files//vgg16-no-data-aug-loss.png\">\n",
    "<img src=\"files/files//vgg16-no-data-inference-example.png\">\n",
    "<img src=\"files/files//vgg16-no-data-inference-zoom.png\">\n"
   ]
  },
  {
   "cell_type": "markdown",
   "metadata": {},
   "source": [
    "## VGG16\n",
    "all_freezed_data_v2.4 \n",
    "\n",
    "Data Augmentation \n",
    "- rotation_range=40,        \n",
    "- shear_range=0.2,        \n",
    "- horizontal_flip=True,        \n",
    "- vertical_flip=True,        \n",
    "- fill_mode='nearest',        \n",
    "- zoom_range=0.2\n",
    "\n",
    "Dataset Shift on 9 locations\n",
    "\n",
    "OpenCV Error"
   ]
  },
  {
   "cell_type": "markdown",
   "metadata": {},
   "source": [
    "<img src=\"files/files/vgg16-data-aug-train.png\">\n",
    "<img src=\"files/files/vgg16-data-aug-loss.png\">\n",
    "<img src=\"files/files/vgg16-data-aug-example.png\">"
   ]
  },
  {
   "cell_type": "markdown",
   "metadata": {},
   "source": [
    "Dataset V3\n",
    "- UPAIR → 9 images with translation – 70% / 30% training\n",
    "- Selection\n",
    "- TRASHNET → one image scaled to 224x224 - ALL\n",
    "\n",
    "Background\n",
    "- 10 image sample from UPAIR per shot– vetted\n",
    "- Selection of Car/Stone\n",
    "\n",
    "V3 conv block -4"
   ]
  },
  {
   "cell_type": "markdown",
   "metadata": {},
   "source": [
    "## VGG16 Last Conv Block Training\n",
    "\n",
    "- VGG16 – InputLayer\t\t\t\tFalse\n",
    "- Conv2D Conv2D MaxPooling2D \t\tFalse\n",
    "- Conv2D Conv2D MaxPooling2D \t\tFalse\n",
    "- Conv2D Conv2D Conv2D MaxPooling2D False\n",
    "- Conv2D Conv2D Conv2D MaxPooling2D False\n",
    "- Conv2D Conv2D Conv2D MaxPooling2D True"
   ]
  },
  {
   "cell_type": "markdown",
   "metadata": {},
   "source": [
    "<img src=\"files/files/vgg16-1conv-data-aug-train.png\">\n",
    "<img src=\"files/files/vgg16-1conv-data-aug-loss.png\">"
   ]
  }
 ],
 "metadata": {
  "kernelspec": {
   "display_name": "Python 3",
   "language": "python",
   "name": "python3"
  },
  "language_info": {
   "codemirror_mode": {
    "name": "ipython",
    "version": 3
   },
   "file_extension": ".py",
   "mimetype": "text/x-python",
   "name": "python",
   "nbconvert_exporter": "python",
   "pygments_lexer": "ipython3",
   "version": "3.6.5"
  }
 },
 "nbformat": 4,
 "nbformat_minor": 2
}
