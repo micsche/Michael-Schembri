{
 "cells": [
  {
   "cell_type": "markdown",
   "metadata": {},
   "source": [
    "## Calculate IoU - Average Precision - Precision Curve"
   ]
  },
  {
   "cell_type": "code",
   "execution_count": 1,
   "metadata": {},
   "outputs": [],
   "source": [
    "import pandas as pd\n",
    "import numpy as np\n",
    "from os import listdir\n",
    "from os.path import isfile, join\n",
    "from lxml import etree\n",
    "import re\n",
    "import matplotlib.pyplot as plt"
   ]
  },
  {
   "cell_type": "code",
   "execution_count": 2,
   "metadata": {},
   "outputs": [
    {
     "name": "stdout",
     "output_type": "stream",
     "text": [
      "-rw-rw-r-- 1 mike mike 3273885 ott 16 11:45 ./boundingbox/vgg16-dataset-normal.geo.slidingwindow.csv\r\n",
      "-rw-rw-r-- 1 mike mike  169552 ott 17 15:58 ./boundingbox/vgg16-dataset-normal.test.slidingwindow.1.csv\r\n",
      "-rw-rw-r-- 1 mike mike  228487 ott 16 11:45 ./boundingbox/vgg16-dataset-normal.test.slidingwindow.csv\r\n"
     ]
    }
   ],
   "source": [
    "!ls -al ./boundingbox/*.csv"
   ]
  },
  {
   "cell_type": "code",
   "execution_count": 3,
   "metadata": {},
   "outputs": [],
   "source": [
    "prediction_test=\"vgg16-dataset-normal.test.slidingwindow.1.csv\""
   ]
  },
  {
   "cell_type": "code",
   "execution_count": 4,
   "metadata": {},
   "outputs": [],
   "source": [
    "test=\"test\"\n",
    "prediction_dir=\"./boundingbox/\"\n",
    "\n",
    "pd_file=join(prediction_dir,prediction_test)\n",
    "\n",
    "if test==\"geo\":\n",
    "    label_dir=\"/part/data/upairtest_geo/label/\"\n",
    "elif test==\"train\":\n",
    "    label_dir=\"/part/data/upairtag/label/\"\n",
    "elif test==\"test\":\n",
    "    label_dir=\"/part/data/upairtest/label/\"\n",
    "    \n"
   ]
  },
  {
   "cell_type": "markdown",
   "metadata": {},
   "source": [
    "### Prediction Results"
   ]
  },
  {
   "cell_type": "code",
   "execution_count": 5,
   "metadata": {},
   "outputs": [],
   "source": [
    "pred_df=pd.read_csv(pd_file,header=None)\n",
    "pred_df.columns = ['dataset','filename','x','y','x1','y1','confidence'] ## column names\n",
    "pred_df['filename'] = [word.split(\".\")[0] for word in pred_df['filename']] ## strip .jpg"
   ]
  },
  {
   "cell_type": "markdown",
   "metadata": {},
   "source": [
    "## Parse XML files VOC2012"
   ]
  },
  {
   "cell_type": "code",
   "execution_count": 6,
   "metadata": {},
   "outputs": [],
   "source": [
    "def parseXML(file):\n",
    "    \"\"\"\n",
    "    Parse the xml\n",
    "    \"\"\"\n",
    "    global label_dir,test\n",
    "    \n",
    "    xmlFile=join(label_dir,file)\n",
    "    \n",
    "    if not isfile(xmlFile):\n",
    "        ## File Does not exit return null ground-truth bo\n",
    "        return []    \n",
    "    gt_box=[]\n",
    "    with open(xmlFile) as fobj:\n",
    "        xml = fobj.read()\n",
    "        \n",
    "    fileid=file.split(\".\")[0]\n",
    "\n",
    "    root = etree.fromstring(xml)\n",
    "\n",
    "    for appt in root.getchildren():\n",
    "        for elem in appt.getchildren():\n",
    "            #if elem.tag == \"name\":\n",
    "            #    print(elem.text)\n",
    "            if elem.tag == \"bndbox\":\n",
    "                for bb in elem.getchildren():\n",
    "                    if not bb.text:\n",
    "                        text = \"None\"\n",
    "                    else:\n",
    "                        if bb.tag==\"xmin\": xn=int(bb.text)\n",
    "                        if bb.tag==\"ymin\": yn=int(bb.text)\n",
    "                        if bb.tag==\"xmax\": xx=int(bb.text)\n",
    "                        if bb.tag==\"ymax\": yx=int(bb.text)\n",
    "                gt_box.append([test,fileid,xn,yn,xx,yx])\n",
    "    return gt_box\n",
    "\n"
   ]
  },
  {
   "cell_type": "markdown",
   "metadata": {},
   "source": [
    "### Ground-Truth"
   ]
  },
  {
   "cell_type": "code",
   "execution_count": 7,
   "metadata": {},
   "outputs": [],
   "source": [
    "xml_files = [f for f in listdir(label_dir) if isfile(join(label_dir, f))]"
   ]
  },
  {
   "cell_type": "code",
   "execution_count": 8,
   "metadata": {},
   "outputs": [],
   "source": [
    "gt_list=[]\n",
    "for xml_file in xml_files:\n",
    "    gt_list_set=parseXML(xml_file)\n",
    "    \n",
    "    for gt in gt_list_set:\n",
    "        gt_list.append(gt)\n",
    "gt_df = pd.DataFrame(gt_list)\n",
    "gt_df.columns = ['dataset','filename','x','y','x1','y1']\n",
    "\n",
    "sLength = len(gt_df['x'])\n",
    "gt_df.loc[:,'USE'] = pd.Series(np.zeros(sLength,dtype=bool), index=gt_df.index)\n"
   ]
  },
  {
   "cell_type": "code",
   "execution_count": 9,
   "metadata": {},
   "outputs": [],
   "source": [
    "def area_of_intersection(gtbox,pdbox):\n",
    "    gx1,gy1,gx2,gy2=gtbox\n",
    "    px1,py1,px2,py2=pdbox\n",
    "    \n",
    "    if gx2<px1 or gx1>px2 or gy2<py1 or gy1>py2:\n",
    "        area=0\n",
    "    else:\n",
    "        gtcorner1=False\n",
    "        gtcorner2=False\n",
    "        gtcorner3=False\n",
    "        gtcorner4=False\n",
    "\n",
    "        if gx1>px1 and gx1<px2 and gy1>py1 and gy1<py2:\n",
    "            gtcorner1=True\n",
    "\n",
    "        if gx2>px1 and gx2<px2 and gy1>py1 and gy1<py2:\n",
    "            gtcorner2=True\n",
    "\n",
    "        if gx2>px1 and gx2<px2 and gy2>py1 and gy2<py2:\n",
    "            gtcorner3=True\n",
    "\n",
    "        if gx1>px1 and gx1<px2 and gy2>py1 and gy2<py2:\n",
    "            gtcorner4=True\n",
    "                \n",
    "        x1=-1\n",
    "        y1=-1\n",
    "        x2=-1\n",
    "        y2=-1\n",
    "\n",
    "        ## ground truth inside prediction\n",
    "        if gtcorner1==True and gtcorner2==True and gtcorner3==True and gtcorner4==True:\n",
    "            x1=gx1\n",
    "            x2=gx2\n",
    "            y1=gy1\n",
    "            y2=gy2\n",
    "\n",
    "        ## prediction inside ground_truth\n",
    "        if gtcorner1==False and gtcorner2==False and gtcorner3==False and gtcorner4==False:\n",
    "            x1=px1\n",
    "            x2=px2\n",
    "            y1=py1\n",
    "            y2=py2\n",
    "\n",
    "        if x1==-1 and gtcorner3==True:\n",
    "            if gtcorner2==True:\n",
    "                x1=px1\n",
    "                y1=gy1\n",
    "                x2=gx2\n",
    "                y2=gy2                   \n",
    "\n",
    "            if gtcorner4==True:\n",
    "                x1=gx1\n",
    "                y1=py1\n",
    "                x2=gx2\n",
    "                y2=gy2                   \n",
    "\n",
    "            if x1==-1:\n",
    "                x1=px1\n",
    "                y1=py1\n",
    "                x2=gx2\n",
    "                y2=gy2                   \n",
    "\n",
    "\n",
    "        if x1==-1 and gtcorner1==True:\n",
    "            if gtcorner2==True:\n",
    "                x1=gx1\n",
    "                y1=gy1\n",
    "                x2=gx2\n",
    "                y2=py2                              \n",
    "\n",
    "            if gtcorner4==True:\n",
    "                x1=gx1\n",
    "                y1=gy1\n",
    "                x2=px2\n",
    "                y2=gy2                              \n",
    "\n",
    "            if x1==-1:\n",
    "                x1=px2\n",
    "                y1=py2\n",
    "                x2=gx1\n",
    "                y2=gy1\n",
    "\n",
    "        if x1==-1 and gtcorner2==True:\n",
    "            x1=px1\n",
    "            y1=py2\n",
    "            x2=gx2\n",
    "            y2=gy1                              \n",
    "\n",
    "\n",
    "        if x1==-1 and gtcorner4==True:\n",
    "            x1=px2\n",
    "            y1=py1\n",
    "            x2=gx1\n",
    "            y2=gy2\n",
    "        area=((x2-x1)**2+(y2-y1)**2)**0.5\n",
    "    return area"
   ]
  },
  {
   "cell_type": "markdown",
   "metadata": {},
   "source": [
    "## IOU "
   ]
  },
  {
   "cell_type": "code",
   "execution_count": 10,
   "metadata": {},
   "outputs": [],
   "source": [
    "def iou(scene,box,threshold):\n",
    "    global gt_df\n",
    "    \n",
    "    ## select all ground truths for the scene that have not been predicted\n",
    "    scene_df=gt_df.loc[(gt_df['filename'] == scene) & (gt_df['USE']==False)]\n",
    "    \n",
    "    a,b,c,d=box\n",
    "    px1=min(a,c)\n",
    "    py1=min(b,d)\n",
    "    px2=max(a,c)\n",
    "    py2=max(b,d)\n",
    "\n",
    "    found=False \n",
    "    \n",
    "    for index,row in scene_df.iterrows():\n",
    "        a=row['x']\n",
    "        b=row['y']\n",
    "        c=row['x1']\n",
    "        d=row['y1']\n",
    "        gx1=min(a,c)\n",
    "        gy1=min(b,d)\n",
    "        gx2=max(a,c)\n",
    "        gy2=max(b,d)\n",
    "        \n",
    "        intersection=area_of_intersection([gx1,gy1,gx2,gy2],[px1,py1,px2,py2])\n",
    "        \n",
    "        ## All ground truths will be marked as found\n",
    "        if intersection>threshold:\n",
    "            gt_df.loc[index,'USE']=True  ## Mark Ground-Truth as found\n",
    "            found=True\n",
    "    return found\n"
   ]
  },
  {
   "cell_type": "code",
   "execution_count": 11,
   "metadata": {},
   "outputs": [],
   "source": [
    "AP_table=[]\n",
    "confidence_threshold=0.999\n",
    "for index, row in pred_df[pred_df['confidence']>confidence_threshold].iterrows():\n",
    "    TP=iou(row['filename'],[row['x'], row['y'],row['x1'], row['y1']],0.0001)\n",
    "    AP_table.append([TP,round(row['confidence'],2)]) \n",
    "\n",
    "AP_df = pd.DataFrame(AP_table)\n",
    "AP_df.columns = ['positive','confidence']\n",
    "AP_df=AP_df.sort_values(by=['confidence'], ascending=False)"
   ]
  },
  {
   "cell_type": "markdown",
   "metadata": {},
   "source": [
    "\n",
    "### Will be different because one Spanning Window can detect multiple objects"
   ]
  },
  {
   "cell_type": "markdown",
   "metadata": {},
   "source": [
    "### Recall Value when calculating $\\frac{Objects\\ Found}{Total\\ Number\\ of\\ Objects}$"
   ]
  },
  {
   "cell_type": "code",
   "execution_count": 12,
   "metadata": {},
   "outputs": [
    {
     "data": {
      "text/plain": [
       "0.7813765182186235"
      ]
     },
     "execution_count": 12,
     "metadata": {},
     "output_type": "execute_result"
    }
   ],
   "source": [
    "len(gt_df[gt_df['USE']==True])/len(gt_df)"
   ]
  },
  {
   "cell_type": "markdown",
   "metadata": {},
   "source": [
    "### Recall Value when calculating  $\\frac{Boxes \\ Predicted\\ an\\ Object }{ Total\\ Number\\ of\\ Objects}$"
   ]
  },
  {
   "cell_type": "code",
   "execution_count": 13,
   "metadata": {},
   "outputs": [
    {
     "data": {
      "text/plain": [
       "0.708502024291498"
      ]
     },
     "execution_count": 13,
     "metadata": {},
     "output_type": "execute_result"
    }
   ],
   "source": [
    "len(AP_df[AP_df['positive']==True])/len(gt_df)"
   ]
  },
  {
   "cell_type": "markdown",
   "metadata": {},
   "source": [
    "### Precision"
   ]
  },
  {
   "cell_type": "code",
   "execution_count": 18,
   "metadata": {},
   "outputs": [
    {
     "data": {
      "text/plain": [
       "0.2750556792873051"
      ]
     },
     "execution_count": 18,
     "metadata": {},
     "output_type": "execute_result"
    }
   ],
   "source": [
    "len(gt_df)/len(AP_df)"
   ]
  },
  {
   "cell_type": "markdown",
   "metadata": {},
   "source": [
    "## Precision Recall"
   ]
  },
  {
   "cell_type": "code",
   "execution_count": 14,
   "metadata": {},
   "outputs": [],
   "source": [
    "row = 0\n",
    "TP = 0\n",
    "total_groundtruth = len(gt_df.index)\n",
    "\n",
    "prlist=np.zeros(101)\n",
    "for index,PR in  AP_df.iterrows():\n",
    "    \n",
    "    row=row + 1\n",
    "    \n",
    "    if PR['positive'] == True:\n",
    "        TP = TP + 1\n",
    "        \n",
    "    precision = TP / row\n",
    "    recall    = int(TP*100/ total_groundtruth)\n",
    "    \n",
    "    prlist[recall] = max(prlist[recall], precision)\n",
    "    "
   ]
  },
  {
   "cell_type": "code",
   "execution_count": 15,
   "metadata": {},
   "outputs": [
    {
     "data": {
      "image/png": "[encoded data removed]",
      "text/plain": [
       "<Figure size 432x288 with 1 Axes>"
      ]
     },
     "metadata": {},
     "output_type": "display_data"
    }
   ],
   "source": [
    "plt.plot(prlist, '-')\n",
    "plt.show()"
   ]
  },
  {
   "cell_type": "code",
   "execution_count": null,
   "metadata": {},
   "outputs": [],
   "source": []
  }
 ],
 "metadata": {
  "kernelspec": {
   "display_name": "Python 3",
   "language": "python",
   "name": "python3"
  },
  "language_info": {
   "codemirror_mode": {
    "name": "ipython",
    "version": 3
   },
   "file_extension": ".py",
   "mimetype": "text/x-python",
   "name": "python",
   "nbconvert_exporter": "python",
   "pygments_lexer": "ipython3",
   "version": "3.6.5"
  }
 },
 "nbformat": 4,
 "nbformat_minor": 2
}
