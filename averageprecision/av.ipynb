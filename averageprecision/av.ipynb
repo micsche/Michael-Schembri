{
 "cells": [
  {
   "cell_type": "markdown",
   "metadata": {},
   "source": [
    "## Calculate IoU - Average Precision - Precision Curve"
   ]
  },
  {
   "cell_type": "code",
   "execution_count": 1,
   "metadata": {},
   "outputs": [],
   "source": [
    "import pandas as pd\n",
    "import numpy as np\n",
    "from os import listdir\n",
    "from os.path import isfile, join\n",
    "from lxml import etree\n",
    "import re\n",
    "import matplotlib.pyplot as plt\n",
    "\n",
    "from sklearn.metrics import precision_recall_curve\n",
    "import matplotlib.pyplot as plt\n",
    "from sklearn.utils.fixes import signature\n",
    "from sklearn.metrics import average_precision_score"
   ]
  },
  {
   "cell_type": "code",
   "execution_count": 21,
   "metadata": {},
   "outputs": [
    {
     "name": "stdout",
     "output_type": "stream",
     "text": [
      "./boundingbox/correct_vgg16-dataset.v24.geo.slidingwindow.csv\r\n",
      "./boundingbox/correct_vgg16-geo-dataset.1.geo.slidingwindow.csv\r\n",
      "./boundingbox/correct_vgg16-geo-dataset.1.test.slidingwindow.csv\r\n",
      "./boundingbox/correct_vgg16-geo-dataset.test.slidingwindow.csv\r\n",
      "./boundingbox/correct_vgg16-sw-fc2k.3-dataset.v6.1arch.json.geo.slidingwindow.csv\r\n",
      "./boundingbox/vgg16CAM-dataset-normal.geo.slidingwindow.csv\r\n",
      "./boundingbox/vgg16-dataset10.geo.slidingwindow.csv\r\n",
      "./boundingbox/vgg16-dataset11.geo.slidingwindow.csv\r\n",
      "./boundingbox/vgg16-dataset7.geo.slidingwindow.csv\r\n",
      "./boundingbox/vgg16-dataset8.geo.slidingwindow.csv\r\n",
      "./boundingbox/vgg16-dataset9.geo.slidingwindow.csv\r\n",
      "./boundingbox/vgg16-dataset-filtered-test.geo.slidingwindow.csv\r\n",
      "./boundingbox/vgg16-dataset.fov-filtered-.geo.slidingwindow.csv\r\n",
      "./boundingbox/vgg16-dataset-normal.geo.slidingwindow.csv\r\n",
      "./boundingbox/vgg16-dataset.v6.1-filtered-.geo.slidingwindow.csv\r\n",
      "./boundingbox/vgg16-dataset.v6.2-filtered-.geo.slidingwindow.csv\r\n",
      "./boundingbox/vgg16-dataset.v6-filtered-.geo.slidingwindow.csv\r\n",
      "./boundingbox/vgg16-featurecentre.geo.slidingwindow.csv\r\n",
      "./boundingbox/vgg16-filtered-hishift.geo.slidingwindow.csv\r\n",
      "./boundingbox/vgg16-filtered-hizoom.geo.slidingwindow.csv\r\n",
      "./boundingbox/vgg16-filtered-rot22.geo.slidingwindow.csv\r\n",
      "./boundingbox/vgg16-filtered-rot45.geo.slidingwindow.csv\r\n",
      "./boundingbox/vgg16-samplewise.geo.slidingwindow.csv\r\n"
     ]
    }
   ],
   "source": [
    "!ls -1 ./boundingbox/*.csv |grep \"geo\""
   ]
  },
  {
   "cell_type": "markdown",
   "metadata": {},
   "source": [
    "### Change Prediction results to csv"
   ]
  },
  {
   "cell_type": "code",
   "execution_count": 22,
   "metadata": {},
   "outputs": [],
   "source": [
    "prediction_test=\"correct_vgg16-dataset.v24.geo.slidingwindow.csv\""
   ]
  },
  {
   "cell_type": "markdown",
   "metadata": {},
   "source": [
    "### Change Ground-truth to GEO, TEST or TRAIN"
   ]
  },
  {
   "cell_type": "code",
   "execution_count": 29,
   "metadata": {},
   "outputs": [],
   "source": [
    "test=\"geo\"\n",
    "prediction_dir=\"./boundingbox/\"\n",
    "pd_file=join(prediction_dir,prediction_test)\n",
    "    \n",
    "if test==\"train\":\n",
    "    mypath=\"/media/winpart/drone/filtertag/\"\n",
    "    label_dir=\"/media/winpart/drone/label\"\n",
    "    \n",
    "elif test==\"test\":\n",
    "    mypath=\"/media/winpart/drone/filtertest/\"\n",
    "    label_dir=\"/media/winpart/drone/upairtest/label\"\n",
    "    \n",
    "elif test==\"geo\":\n",
    "    mypath=\"/media/winpart/drone/filtergeo/\"\n",
    "    label_dir=\"/media/winpart/drone/upairtest_geo/label\""
   ]
  },
  {
   "cell_type": "markdown",
   "metadata": {},
   "source": [
    "### Prediction Results\n",
    "\n",
    "pred_df contains all the Predicted Plastic"
   ]
  },
  {
   "cell_type": "code",
   "execution_count": 30,
   "metadata": {},
   "outputs": [
    {
     "data": {
      "text/html": [
       "<div>\n",
       "<style scoped>\n",
       "    .dataframe tbody tr th:only-of-type {\n",
       "        vertical-align: middle;\n",
       "    }\n",
       "\n",
       "    .dataframe tbody tr th {\n",
       "        vertical-align: top;\n",
       "    }\n",
       "\n",
       "    .dataframe thead th {\n",
       "        text-align: right;\n",
       "    }\n",
       "</style>\n",
       "<table border=\"1\" class=\"dataframe\">\n",
       "  <thead>\n",
       "    <tr style=\"text-align: right;\">\n",
       "      <th></th>\n",
       "      <th>dataset</th>\n",
       "      <th>filename</th>\n",
       "      <th>x</th>\n",
       "      <th>y</th>\n",
       "      <th>x1</th>\n",
       "      <th>y1</th>\n",
       "      <th>confidence</th>\n",
       "    </tr>\n",
       "  </thead>\n",
       "  <tbody>\n",
       "    <tr>\n",
       "      <th>0</th>\n",
       "      <td>geo</td>\n",
       "      <td>1000</td>\n",
       "      <td>0</td>\n",
       "      <td>1920</td>\n",
       "      <td>224</td>\n",
       "      <td>2144</td>\n",
       "      <td>0.699</td>\n",
       "    </tr>\n",
       "    <tr>\n",
       "      <th>1</th>\n",
       "      <td>geo</td>\n",
       "      <td>1000</td>\n",
       "      <td>384</td>\n",
       "      <td>2854</td>\n",
       "      <td>608</td>\n",
       "      <td>3078</td>\n",
       "      <td>1.000</td>\n",
       "    </tr>\n",
       "    <tr>\n",
       "      <th>2</th>\n",
       "      <td>geo</td>\n",
       "      <td>1000</td>\n",
       "      <td>768</td>\n",
       "      <td>1152</td>\n",
       "      <td>992</td>\n",
       "      <td>1376</td>\n",
       "      <td>0.822</td>\n",
       "    </tr>\n",
       "    <tr>\n",
       "      <th>3</th>\n",
       "      <td>geo</td>\n",
       "      <td>1000</td>\n",
       "      <td>1152</td>\n",
       "      <td>0</td>\n",
       "      <td>1376</td>\n",
       "      <td>224</td>\n",
       "      <td>0.526</td>\n",
       "    </tr>\n",
       "    <tr>\n",
       "      <th>4</th>\n",
       "      <td>geo</td>\n",
       "      <td>1000</td>\n",
       "      <td>1344</td>\n",
       "      <td>2112</td>\n",
       "      <td>1568</td>\n",
       "      <td>2336</td>\n",
       "      <td>1.000</td>\n",
       "    </tr>\n",
       "  </tbody>\n",
       "</table>\n",
       "</div>"
      ],
      "text/plain": [
       "  dataset filename     x     y    x1    y1  confidence\n",
       "0     geo     1000     0  1920   224  2144       0.699\n",
       "1     geo     1000   384  2854   608  3078       1.000\n",
       "2     geo     1000   768  1152   992  1376       0.822\n",
       "3     geo     1000  1152     0  1376   224       0.526\n",
       "4     geo     1000  1344  2112  1568  2336       1.000"
      ]
     },
     "execution_count": 30,
     "metadata": {},
     "output_type": "execute_result"
    }
   ],
   "source": [
    "pred_df=pd.read_csv(pd_file,header=None)\n",
    "pred_df.columns = ['dataset','filename','x','y','x1','y1','confidence'] ## column names\n",
    "pred_df['filename'] = [word.split(\".\")[0] for word in pred_df['filename']] ## strip .jpg\n",
    "\n",
    "pred_df['filename'] = [word[6:] for word in pred_df['filename']] ## strip filter\n",
    "pred_df[pred_df.filename==\"UPAIR000021\"]\n",
    "pred_df.head()"
   ]
  },
  {
   "cell_type": "markdown",
   "metadata": {},
   "source": [
    "## Parse XML files VOC2012"
   ]
  },
  {
   "cell_type": "code",
   "execution_count": 31,
   "metadata": {},
   "outputs": [],
   "source": [
    "def parseXML(file):\n",
    "    \"\"\"\n",
    "    Parse the xml\n",
    "    \"\"\"\n",
    "    global label_dir,test\n",
    "    \n",
    "    xmlFile=join(label_dir,file)\n",
    "    \n",
    "    if not isfile(xmlFile):\n",
    "        ## File Does not exit return null ground-truth bo\n",
    "        return []    \n",
    "    gt_box=[]\n",
    "    with open(xmlFile) as fobj:\n",
    "        xml = fobj.read()\n",
    "        \n",
    "    fileid=file.split(\".\")[0]\n",
    "\n",
    "    root = etree.fromstring(xml)\n",
    "\n",
    "    for appt in root.getchildren():\n",
    "        for elem in appt.getchildren():\n",
    "            #if elem.tag == \"name\":\n",
    "            #    print(elem.text)\n",
    "            if elem.tag == \"bndbox\":\n",
    "                for bb in elem.getchildren():\n",
    "                    if not bb.text:\n",
    "                        text = \"None\"\n",
    "                    else:\n",
    "                        if bb.tag==\"xmin\": xn=int(bb.text)\n",
    "                        if bb.tag==\"ymin\": yn=int(bb.text)\n",
    "                        if bb.tag==\"xmax\": xx=int(bb.text)\n",
    "                        if bb.tag==\"ymax\": yx=int(bb.text)\n",
    "                gt_box.append([test,fileid,xn,yn,xx,yx])\n",
    "    return gt_box\n",
    "\n"
   ]
  },
  {
   "cell_type": "markdown",
   "metadata": {},
   "source": [
    "### Ground-Truth\n",
    "\n",
    "gt_df contains all the ground-truth annotation boxes"
   ]
  },
  {
   "cell_type": "code",
   "execution_count": 32,
   "metadata": {},
   "outputs": [],
   "source": [
    "xml_files = [f for f in listdir(label_dir) if isfile(join(label_dir, f))]"
   ]
  },
  {
   "cell_type": "code",
   "execution_count": 33,
   "metadata": {},
   "outputs": [],
   "source": [
    "gt_list=[]\n",
    "for xml_file in xml_files:\n",
    "    gt_list_set=parseXML(xml_file)\n",
    "    \n",
    "    for gt in gt_list_set:\n",
    "        gt_list.append(gt)\n",
    "gt_df = pd.DataFrame(gt_list)\n",
    "gt_df.columns = ['dataset','filename','x','y','x1','y1']\n",
    "\n",
    "sLength = len(gt_df['x'])\n",
    "gt_df.loc[:,'USE'] = pd.Series(np.zeros(sLength,dtype=bool), index=gt_df.index)\n"
   ]
  },
  {
   "cell_type": "code",
   "execution_count": 34,
   "metadata": {},
   "outputs": [
    {
     "data": {
      "text/html": [
       "<div>\n",
       "<style scoped>\n",
       "    .dataframe tbody tr th:only-of-type {\n",
       "        vertical-align: middle;\n",
       "    }\n",
       "\n",
       "    .dataframe tbody tr th {\n",
       "        vertical-align: top;\n",
       "    }\n",
       "\n",
       "    .dataframe thead th {\n",
       "        text-align: right;\n",
       "    }\n",
       "</style>\n",
       "<table border=\"1\" class=\"dataframe\">\n",
       "  <thead>\n",
       "    <tr style=\"text-align: right;\">\n",
       "      <th></th>\n",
       "      <th>dataset</th>\n",
       "      <th>filename</th>\n",
       "      <th>x</th>\n",
       "      <th>y</th>\n",
       "      <th>x1</th>\n",
       "      <th>y1</th>\n",
       "      <th>USE</th>\n",
       "    </tr>\n",
       "  </thead>\n",
       "  <tbody>\n",
       "    <tr>\n",
       "      <th>0</th>\n",
       "      <td>geo</td>\n",
       "      <td>1000</td>\n",
       "      <td>4905</td>\n",
       "      <td>1816</td>\n",
       "      <td>4955</td>\n",
       "      <td>1860</td>\n",
       "      <td>False</td>\n",
       "    </tr>\n",
       "    <tr>\n",
       "      <th>1</th>\n",
       "      <td>geo</td>\n",
       "      <td>1000</td>\n",
       "      <td>825</td>\n",
       "      <td>1272</td>\n",
       "      <td>859</td>\n",
       "      <td>1333</td>\n",
       "      <td>False</td>\n",
       "    </tr>\n",
       "    <tr>\n",
       "      <th>2</th>\n",
       "      <td>geo</td>\n",
       "      <td>1001</td>\n",
       "      <td>4230</td>\n",
       "      <td>1917</td>\n",
       "      <td>4270</td>\n",
       "      <td>1948</td>\n",
       "      <td>False</td>\n",
       "    </tr>\n",
       "    <tr>\n",
       "      <th>3</th>\n",
       "      <td>geo</td>\n",
       "      <td>1001</td>\n",
       "      <td>941</td>\n",
       "      <td>1507</td>\n",
       "      <td>981</td>\n",
       "      <td>1559</td>\n",
       "      <td>False</td>\n",
       "    </tr>\n",
       "    <tr>\n",
       "      <th>4</th>\n",
       "      <td>geo</td>\n",
       "      <td>1002</td>\n",
       "      <td>759</td>\n",
       "      <td>2560</td>\n",
       "      <td>792</td>\n",
       "      <td>2604</td>\n",
       "      <td>False</td>\n",
       "    </tr>\n",
       "  </tbody>\n",
       "</table>\n",
       "</div>"
      ],
      "text/plain": [
       "  dataset filename     x     y    x1    y1    USE\n",
       "0     geo     1000  4905  1816  4955  1860  False\n",
       "1     geo     1000   825  1272   859  1333  False\n",
       "2     geo     1001  4230  1917  4270  1948  False\n",
       "3     geo     1001   941  1507   981  1559  False\n",
       "4     geo     1002   759  2560   792  2604  False"
      ]
     },
     "execution_count": 34,
     "metadata": {},
     "output_type": "execute_result"
    }
   ],
   "source": [
    "gt_df.head()"
   ]
  },
  {
   "cell_type": "code",
   "execution_count": 35,
   "metadata": {},
   "outputs": [],
   "source": [
    "def area_of_intersection(gtbox,pdbox):\n",
    "    gx1,gy1,gx2,gy2=gtbox\n",
    "    px1,py1,px2,py2=pdbox\n",
    "    \n",
    "    if gx2<px1 or gx1>px2 or gy2<py1 or gy1>py2:\n",
    "        area=0\n",
    "    else:\n",
    "        gtcorner1=False\n",
    "        gtcorner2=False\n",
    "        gtcorner3=False\n",
    "        gtcorner4=False\n",
    "\n",
    "        if gx1>px1 and gx1<px2 and gy1>py1 and gy1<py2:\n",
    "            gtcorner1=True\n",
    "\n",
    "        if gx2>px1 and gx2<px2 and gy1>py1 and gy1<py2:\n",
    "            gtcorner2=True\n",
    "\n",
    "        if gx2>px1 and gx2<px2 and gy2>py1 and gy2<py2:\n",
    "            gtcorner3=True\n",
    "\n",
    "        if gx1>px1 and gx1<px2 and gy2>py1 and gy2<py2:\n",
    "            gtcorner4=True\n",
    "                \n",
    "        x1=-1\n",
    "        y1=-1\n",
    "        x2=-1\n",
    "        y2=-1\n",
    "\n",
    "        ## ground truth inside prediction\n",
    "        if gtcorner1==True and gtcorner2==True and gtcorner3==True and gtcorner4==True:\n",
    "            x1=gx1\n",
    "            x2=gx2\n",
    "            y1=gy1\n",
    "            y2=gy2\n",
    "\n",
    "        ## prediction inside ground_truth\n",
    "        if gtcorner1==False and gtcorner2==False and gtcorner3==False and gtcorner4==False:\n",
    "            x1=px1\n",
    "            x2=px2\n",
    "            y1=py1\n",
    "            y2=py2\n",
    "\n",
    "        if x1==-1 and gtcorner3==True:\n",
    "            if gtcorner2==True:\n",
    "                x1=px1\n",
    "                y1=gy1\n",
    "                x2=gx2\n",
    "                y2=gy2                   \n",
    "\n",
    "            if gtcorner4==True:\n",
    "                x1=gx1\n",
    "                y1=py1\n",
    "                x2=gx2\n",
    "                y2=gy2                   \n",
    "\n",
    "            if x1==-1:\n",
    "                x1=px1\n",
    "                y1=py1\n",
    "                x2=gx2\n",
    "                y2=gy2                   \n",
    "\n",
    "\n",
    "        if x1==-1 and gtcorner1==True:\n",
    "            if gtcorner2==True:\n",
    "                x1=gx1\n",
    "                y1=gy1\n",
    "                x2=gx2\n",
    "                y2=py2                              \n",
    "\n",
    "            if gtcorner4==True:\n",
    "                x1=gx1\n",
    "                y1=gy1\n",
    "                x2=px2\n",
    "                y2=gy2                              \n",
    "\n",
    "            if x1==-1:\n",
    "                x1=px2\n",
    "                y1=py2\n",
    "                x2=gx1\n",
    "                y2=gy1\n",
    "\n",
    "        if x1==-1 and gtcorner2==True:\n",
    "            x1=px1\n",
    "            y1=py2\n",
    "            x2=gx2\n",
    "            y2=gy1                              \n",
    "\n",
    "\n",
    "        if x1==-1 and gtcorner4==True:\n",
    "            x1=px2\n",
    "            y1=py1\n",
    "            x2=gx1\n",
    "            y2=gy2\n",
    "        area=((x2-x1)**2+(y2-y1)**2)**0.5 ## distance  between corners of intersection\n",
    "        # area=(x2-x1)*(y2-y1) ## Area of intersection\n",
    "    return area"
   ]
  },
  {
   "cell_type": "markdown",
   "metadata": {},
   "source": [
    "## IOU "
   ]
  },
  {
   "cell_type": "code",
   "execution_count": 36,
   "metadata": {},
   "outputs": [],
   "source": [
    "def iou(scene,box,threshold):\n",
    "    global gt_df\n",
    "    \n",
    "    ## select all ground truths for the scene that have not been predicted\n",
    "    scene_df=gt_df.loc[(gt_df['filename'] == scene) & (gt_df['USE']==False)]\n",
    "    \n",
    "    a,b,c,d=box\n",
    "    px1=min(a,c)\n",
    "    py1=min(b,d)\n",
    "    px2=max(a,c)\n",
    "    py2=max(b,d)\n",
    "    area_pr=((px2-px1)**2+(py2-py1)**2)**0.5\n",
    "    \n",
    "    found=0 \n",
    "    \n",
    "    for index,row in scene_df.iterrows():\n",
    "        a=row['x']\n",
    "        b=row['y']\n",
    "        c=row['x1']\n",
    "        d=row['y1']\n",
    "        gx1=min(a,c)\n",
    "        gy1=min(b,d)\n",
    "        gx2=max(a,c)\n",
    "        gy2=max(b,d)\n",
    "        \n",
    "        intersection = area_of_intersection([gx1,gy1,gx2,gy2],[px1,py1,px2,py2])\n",
    "        \n",
    "        area_gt=((gx2-gx1)**2+(gy2-gy1)**2)**0.5 ## distance  between corners of ground_truth\n",
    "        #area_gt=(gx2-gx1)*(gy2-gy1) ## area of ground_truth\n",
    "        \n",
    "        iou=intersection/(area_gt+area_pr-intersection)\n",
    "        \n",
    "        ## All ground truths will be marked as found\n",
    "        if iou>threshold:\n",
    "            print(\"YES \",end=\"\")\n",
    "            gt_df.loc[index,'USE']=True  ## Mark Ground-Truth as found\n",
    "            found=1\n",
    "    return found\n"
   ]
  },
  {
   "cell_type": "code",
   "execution_count": 37,
   "metadata": {},
   "outputs": [
    {
     "name": "stdout",
     "output_type": "stream",
     "text": [
      "YES YES YES YES YES YES YES YES YES YES YES YES YES YES YES YES YES YES YES YES YES YES YES YES YES YES YES YES YES YES YES YES YES YES YES YES YES YES YES YES YES YES YES YES YES YES YES YES YES YES YES YES YES YES YES YES YES YES YES YES YES YES YES YES YES YES YES YES YES YES YES YES YES YES YES YES YES YES YES YES YES YES YES YES YES YES YES YES YES YES YES YES YES YES YES YES YES YES YES YES YES YES YES YES YES YES YES YES YES YES YES YES YES YES YES YES YES YES YES YES YES YES YES YES YES YES YES YES YES YES YES YES YES YES YES YES YES YES YES YES YES YES YES YES YES YES YES YES YES YES YES YES YES YES YES YES YES YES YES YES YES YES YES YES YES YES YES YES YES YES YES YES YES YES YES YES YES YES YES YES YES YES YES YES YES YES YES YES YES YES YES YES YES YES YES YES YES YES YES YES YES YES YES YES YES YES YES YES YES YES YES YES YES YES YES YES YES YES YES YES YES YES YES YES YES YES YES YES YES YES YES YES YES YES YES YES YES YES YES YES YES YES YES YES YES YES YES YES YES YES YES YES YES YES YES YES YES YES YES YES YES YES YES YES YES YES YES YES YES YES YES YES YES YES YES YES YES YES YES YES YES YES YES YES YES YES YES YES YES YES YES YES YES YES YES YES YES YES YES YES YES YES YES YES YES YES YES YES YES YES YES YES YES YES YES YES YES YES YES YES YES YES YES YES YES YES YES YES YES YES YES YES YES YES YES YES YES YES YES YES YES YES YES YES YES YES YES YES YES YES YES YES YES YES YES YES YES YES YES YES YES YES YES YES YES YES YES YES YES YES YES YES YES YES YES YES YES YES YES YES YES YES YES YES YES YES YES YES YES YES YES YES YES YES YES YES YES YES YES YES YES YES YES YES YES YES YES YES YES YES YES YES YES YES YES YES YES YES YES YES YES YES YES YES YES YES YES YES YES YES YES YES YES YES YES YES YES YES YES YES YES YES YES YES YES YES YES YES YES YES YES YES YES YES YES YES YES YES YES YES YES YES YES YES YES YES YES YES YES YES YES YES YES YES YES YES YES YES YES YES YES YES YES YES YES YES YES YES YES YES YES YES YES YES YES YES YES YES YES YES YES YES YES YES YES YES YES YES YES YES YES YES YES YES YES YES YES YES YES YES YES YES YES YES YES YES YES YES YES YES YES YES YES YES YES YES YES YES YES YES YES YES YES YES YES YES YES YES YES YES YES YES YES YES YES YES YES YES YES YES YES YES YES YES YES YES YES YES YES YES YES YES YES YES YES YES YES YES YES YES YES YES YES YES YES YES YES YES YES YES YES YES YES YES YES YES YES YES YES YES YES YES YES YES YES YES YES YES YES YES YES YES YES YES YES YES YES YES YES YES YES YES YES YES YES YES YES YES YES YES YES YES YES YES YES YES YES YES YES YES YES YES YES YES YES YES YES YES YES YES YES YES YES YES YES YES YES YES YES YES YES YES YES YES YES YES YES YES YES YES YES YES YES YES YES YES YES YES "
     ]
    }
   ],
   "source": [
    "AP_table=[]\n",
    "gt_df['USE']=False\n",
    "confidence_threshold=0.1\n",
    "for index, row in pred_df[pred_df['confidence']>confidence_threshold].iterrows():\n",
    "    TP=iou(row['filename'],[row['x'], row['y'],row['x1'], row['y1']],0.1)\n",
    "    AP_table.append([TP,row['confidence']]) \n",
    "\n",
    "AP_df = pd.DataFrame(AP_table)\n",
    "AP_df.columns = ['positive','confidence']\n",
    "AP_df=AP_df.sort_values(by=['confidence'], ascending=False)"
   ]
  },
  {
   "cell_type": "markdown",
   "metadata": {},
   "source": [
    "\n",
    "### Will be different because one Spanning Window can detect multiple objects"
   ]
  },
  {
   "cell_type": "markdown",
   "metadata": {},
   "source": [
    "### Recall Value when calculating $\\frac{Objects\\ Found}{Total\\ Number\\ of\\ Objects}$"
   ]
  },
  {
   "cell_type": "code",
   "execution_count": 38,
   "metadata": {},
   "outputs": [
    {
     "data": {
      "text/plain": [
       "0.8475"
      ]
     },
     "execution_count": 38,
     "metadata": {},
     "output_type": "execute_result"
    }
   ],
   "source": [
    "len(gt_df[gt_df['USE']==True])/len(gt_df)"
   ]
  },
  {
   "cell_type": "markdown",
   "metadata": {},
   "source": [
    "### Recall Value when calculating  $\\frac{Boxes \\ Predicted\\ an\\ Object }{ Total\\ Number\\ of\\ Objects}$"
   ]
  },
  {
   "cell_type": "code",
   "execution_count": 39,
   "metadata": {},
   "outputs": [
    {
     "data": {
      "text/plain": [
       "0.77375"
      ]
     },
     "execution_count": 39,
     "metadata": {},
     "output_type": "execute_result"
    }
   ],
   "source": [
    "len(AP_df[AP_df['positive']==1])/len(gt_df)"
   ]
  },
  {
   "cell_type": "markdown",
   "metadata": {},
   "source": [
    "### Precision"
   ]
  },
  {
   "cell_type": "code",
   "execution_count": 40,
   "metadata": {},
   "outputs": [
    {
     "data": {
      "text/plain": [
       "0.01858390633711206"
      ]
     },
     "execution_count": 40,
     "metadata": {},
     "output_type": "execute_result"
    }
   ],
   "source": [
    "len(gt_df)/len(AP_df)"
   ]
  },
  {
   "cell_type": "markdown",
   "metadata": {},
   "source": [
    "## Precision Recall"
   ]
  },
  {
   "cell_type": "code",
   "execution_count": 41,
   "metadata": {},
   "outputs": [],
   "source": [
    "y_true=np.array(AP_df['positive'])\n",
    "y_scores=np.array(AP_df['confidence'])\n",
    "precision, recall, thresholds = precision_recall_curve(y_true, y_scores)"
   ]
  },
  {
   "cell_type": "code",
   "execution_count": 42,
   "metadata": {},
   "outputs": [
    {
     "name": "stdout",
     "output_type": "stream",
     "text": [
      "Average precision-recall score: 0.04\n"
     ]
    }
   ],
   "source": [
    "average_precision = average_precision_score(y_true, y_scores)\n",
    "\n",
    "print('Average precision-recall score: {0:0.2f}'.format(\n",
    "      average_precision))"
   ]
  },
  {
   "cell_type": "code",
   "execution_count": 20,
   "metadata": {},
   "outputs": [
    {
     "data": {
      "text/plain": [
       "Text(0.5,1,'2-class Precision-Recall curve: AP=0.21')"
      ]
     },
     "execution_count": 20,
     "metadata": {},
     "output_type": "execute_result"
    },
    {
     "data": {
      "image/png": "[encoded data removed]",
      "text/plain": [
       "<matplotlib.figure.Figure at 0x7f9200bfb2b0>"
      ]
     },
     "metadata": {},
     "output_type": "display_data"
    }
   ],
   "source": [
    "# In matplotlib < 1.5, plt.fill_between does not have a 'step' argument\n",
    "step_kwargs = ({'step': 'post'}\n",
    "               if 'step' in signature(plt.fill_between).parameters\n",
    "               else {})\n",
    "plt.step(recall, precision, color='b', alpha=0.2,\n",
    "         where='post')\n",
    "plt.fill_between(recall, precision, alpha=0.2, color='b', **step_kwargs)\n",
    "\n",
    "plt.xlabel('Recall')\n",
    "plt.ylabel('Precision')\n",
    "plt.ylim([0.0, 1.05])\n",
    "plt.xlim([0.0, 1.0])\n",
    "plt.title('2-class Precision-Recall curve: AP={0:0.2f}'.format(average_precision))"
   ]
  },
  {
   "cell_type": "code",
   "execution_count": null,
   "metadata": {},
   "outputs": [],
   "source": []
  }
 ],
 "metadata": {
  "kernelspec": {
   "display_name": "Python 3",
   "language": "python",
   "name": "python3"
  },
  "language_info": {
   "codemirror_mode": {
    "name": "ipython",
    "version": 3
   },
   "file_extension": ".py",
   "mimetype": "text/x-python",
   "name": "python",
   "nbconvert_exporter": "python",
   "pygments_lexer": "ipython3",
   "version": "3.6.4"
  }
 },
 "nbformat": 4,
 "nbformat_minor": 2
}
